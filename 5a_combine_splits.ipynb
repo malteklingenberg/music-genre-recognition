{
 "cells": [
  {
   "cell_type": "code",
   "execution_count": null,
   "id": "383e7146-7251-4789-9ba9-ac5aef5159a5",
   "metadata": {},
   "outputs": [],
   "source": [
    "from pathlib import Path\n",
    "import pandas as pd"
   ]
  },
  {
   "cell_type": "code",
   "execution_count": null,
   "id": "c10046be-e4a0-423d-a8ac-c4134155598c",
   "metadata": {},
   "outputs": [],
   "source": [
    "Path('./statistics').mkdir(parents=True, exist_ok=True)"
   ]
  },
  {
   "cell_type": "markdown",
   "id": "c2dc1830-c499-4eee-8143-b7e012349ac5",
   "metadata": {},
   "source": [
    "### baseline"
   ]
  },
  {
   "cell_type": "code",
   "execution_count": null,
   "id": "840fa5d1-aca2-4836-b61e-0e174d73cc16",
   "metadata": {},
   "outputs": [],
   "source": [
    "classifiers = ['decision_tree', 'random_forest', 'knn', 'naive_bayes', 'mlp']\n",
    "sections = ['full', 'combined']"
   ]
  },
  {
   "cell_type": "code",
   "execution_count": null,
   "id": "102424b2-4482-4406-b3db-42ac57b2edc5",
   "metadata": {},
   "outputs": [],
   "source": [
    "for classifier in classifiers:\n",
    "    for section in sections:\n",
    "        splits = [pd.read_csv(f'./predictions_bl/{classifier}_bl_{split}_{section}.csv', index_col='file') for split in range(5)]\n",
    "        all_splits = pd.concat(splits).sort_index()\n",
    "\n",
    "        all_splits.to_csv(f'./statistics/{classifier}_bl_all_{section}.csv')"
   ]
  },
  {
   "cell_type": "markdown",
   "id": "c2c53c38-822d-49e3-965d-37ba9471addd",
   "metadata": {},
   "source": [
    "### one-against-all and round-robin"
   ]
  },
  {
   "cell_type": "code",
   "execution_count": null,
   "id": "b7ba5039-20ca-4320-8382-47c73daf7768",
   "metadata": {},
   "outputs": [],
   "source": [
    "classifiers = ['decision_tree', 'random_forest', 'knn', 'naive_bayes', 'mlp', 'svm']\n",
    "sections = ['full', 'combined']"
   ]
  },
  {
   "cell_type": "code",
   "execution_count": null,
   "id": "40b4fbaf-4fb3-4e45-b6b4-5829ccc987ec",
   "metadata": {},
   "outputs": [],
   "source": [
    "for classifier in classifiers:\n",
    "    for section in sections:\n",
    "        splits = [pd.read_csv(f'./predictions_oaa/{classifier}_oaa_{split}_{section}.csv', index_col='file') for split in range(5)]\n",
    "        all_splits = pd.concat(splits).sort_index()\n",
    "\n",
    "        all_splits.to_csv(f'./statistics/{classifier}_oaa_all_{section}.csv')"
   ]
  },
  {
   "cell_type": "code",
   "execution_count": null,
   "id": "e9b07910-6c01-4282-b49c-46f87f55716e",
   "metadata": {},
   "outputs": [],
   "source": [
    "for classifier in classifiers:\n",
    "    for section in sections:\n",
    "        splits = [pd.read_csv(f'./predictions_rr/{classifier}_rr_{split}_{section}.csv', index_col='file') for split in range(5)]\n",
    "        all_splits = pd.concat(splits).sort_index()\n",
    "\n",
    "        all_splits.to_csv(f'./statistics/{classifier}_rr_all_{section}.csv')"
   ]
  }
 ],
 "metadata": {
  "kernelspec": {
   "display_name": "Python 3 (ipykernel)",
   "language": "python",
   "name": "python3"
  },
  "language_info": {
   "codemirror_mode": {
    "name": "ipython",
    "version": 3
   },
   "file_extension": ".py",
   "mimetype": "text/x-python",
   "name": "python",
   "nbconvert_exporter": "python",
   "pygments_lexer": "ipython3",
   "version": "3.11.5"
  }
 },
 "nbformat": 4,
 "nbformat_minor": 5
}
