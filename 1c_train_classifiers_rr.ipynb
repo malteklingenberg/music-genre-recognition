{
 "cells": [
  {
   "cell_type": "code",
   "execution_count": null,
   "id": "ca56d548-9686-4c4f-9157-18304237c980",
   "metadata": {},
   "outputs": [],
   "source": [
    "from pathlib import Path\n",
    "import itertools\n",
    "\n",
    "import numpy as np\n",
    "import pandas as pd\n",
    "\n",
    "from sklearn.tree import DecisionTreeClassifier\n",
    "from sklearn.ensemble import RandomForestClassifier\n",
    "from sklearn.neighbors import KNeighborsClassifier\n",
    "from sklearn.naive_bayes import GaussianNB\n",
    "from sklearn.neural_network import MLPClassifier\n",
    "from sklearn.svm import SVC\n",
    "\n",
    "random_state = 2024"
   ]
  },
  {
   "cell_type": "code",
   "execution_count": null,
   "id": "18ab2816-2685-4c35-b941-0fe027993fed",
   "metadata": {},
   "outputs": [],
   "source": [
    "train_splits, test_splits = [], []\n",
    "for split in range(5):\n",
    "    train = pd.read_csv(f'./training_data/train_{split}.csv', index_col=['file', 'section'])\n",
    "    test  = pd.read_csv(f'./training_data/test_{split}.csv',  index_col=['file', 'section'])\n",
    "\n",
    "    train_splits.append(train)\n",
    "    test_splits.append(test)"
   ]
  },
  {
   "cell_type": "code",
   "execution_count": null,
   "id": "c1f6027b-5fbf-49a3-be1d-4fa49e251a8e",
   "metadata": {},
   "outputs": [],
   "source": [
    "def predict_probabilities(clf, X_test):\n",
    "    all_probabilities = clf.predict_proba(X_test)\n",
    "    predicted_probabilities = np.max(all_probabilities, axis=1)\n",
    "    predicted_classes = clf.classes_[np.argmax(all_probabilities, axis=1)]\n",
    "    return predicted_classes, predicted_probabilities"
   ]
  },
  {
   "cell_type": "code",
   "execution_count": null,
   "id": "b3337781-2839-40bd-85e8-4ca198685731",
   "metadata": {},
   "outputs": [],
   "source": [
    "Path('./predictions_rr/all').mkdir(parents=True, exist_ok=True)\n",
    "num_combinations = 5 * 2 * 45 # 5 splits, full file and time decomposition, 45 genre pairs\n",
    "genres = ['blues', 'classical', 'country', 'disco', 'hiphop', 'jazz', 'metal', 'pop', 'reggae', 'rock']\n",
    "i = 0\n",
    "for split in range(5):\n",
    "    for section in ['full', 'time_decomposition']:\n",
    "        for genre_pair in itertools.combinations(genres, 2):\n",
    "            i += 1\n",
    "            print(f'now generating predictions for combination {i} of {num_combinations} - split {split}, method {section}, genres {genre_pair[0]} vs. {genre_pair[1]}                  ', end='\\r')\n",
    "\n",
    "            if section == 'full':\n",
    "                ix = pd.IndexSlice[:, ['full']]\n",
    "            else:\n",
    "                ix = pd.IndexSlice[:, ['start', 'middle', 'end']]\n",
    "            train = train_splits[split].loc[ix, :]\n",
    "            test = test_splits[split].loc[ix, :]\n",
    "\n",
    "            X_train = train[train['genre'].isin(genre_pair)]\n",
    "            y_train = X_train['genre']\n",
    "            X_train = X_train.drop(columns=['genre'])\n",
    "\n",
    "            X_test = test.drop(columns=['genre'])\n",
    "            y_test = test['genre']\n",
    "            \n",
    "            clf_decision_tree = DecisionTreeClassifier(random_state=random_state).fit(X_train, y_train)\n",
    "            result_decision_tree = y_test.to_frame()\n",
    "            result_decision_tree['predicted'], result_decision_tree['probability'] = predict_probabilities(clf_decision_tree, X_test)\n",
    "            result_decision_tree.to_csv(f'./predictions_rr/all/decision_tree_rr_{split}_{section}_{genre_pair[0]}_{genre_pair[1]}.csv')\n",
    "                \n",
    "            clf_random_forest = RandomForestClassifier(n_estimators=100, random_state=random_state).fit(X_train, y_train)\n",
    "            result_random_forest = y_test.to_frame()\n",
    "            result_random_forest['predicted'], result_random_forest['probability'] = predict_probabilities(clf_random_forest, X_test)\n",
    "            result_random_forest.to_csv(f'./predictions_rr/all/random_forest_rr_{split}_{section}_{genre_pair[0]}_{genre_pair[1]}.csv')\n",
    "\n",
    "            clf_knn = KNeighborsClassifier(n_neighbors=3).fit(X_train, y_train)\n",
    "            result_knn = y_test.to_frame()\n",
    "            result_knn['predicted'], result_knn['probability'] = predict_probabilities(clf_knn, X_test)\n",
    "            result_knn.to_csv(f'./predictions_rr/all/knn_rr_{split}_{section}_{genre_pair[0]}_{genre_pair[1]}.csv')\n",
    "\n",
    "            clf_naive_bayes = GaussianNB().fit(X_train, y_train)\n",
    "            result_naive_bayes = y_test.to_frame()\n",
    "            result_naive_bayes['predicted'], result_naive_bayes['probability'] = predict_probabilities(clf_naive_bayes, X_test)\n",
    "            result_naive_bayes.to_csv(f'./predictions_rr/all/naive_bayes_rr_{split}_{section}_{genre_pair[0]}_{genre_pair[1]}.csv')\n",
    "\n",
    "            clf_mlp = MLPClassifier(hidden_layer_sizes=(30,), batch_size=X_train.shape[0], max_iter=5000, random_state=random_state).fit(X_train, y_train)\n",
    "            result_mlp = y_test.to_frame()\n",
    "            result_mlp['predicted'], result_mlp['probability'] = predict_probabilities(clf_mlp, X_test)\n",
    "            result_mlp.to_csv(f'./predictions_rr/all/mlp_rr_{split}_{section}_{genre_pair[0]}_{genre_pair[1]}.csv')\n",
    "\n",
    "            clf_svm = SVC(random_state=random_state).fit(X_train, y_train)\n",
    "            result_svm = y_test.to_frame()\n",
    "            result_svm['predicted'] = clf_svm.predict(X_test)\n",
    "            result_svm['score'] = clf_svm.decision_function(X_test)\n",
    "            assert not np.logical_and((result_svm['predicted'] == genre_pair[0]), (result_svm['score'] > 0)).any() # ensure that first genre has scores below 0\n",
    "            result_svm.to_csv(f'./predictions_rr/all/svm_rr_{split}_{section}_{genre_pair[0]}_{genre_pair[1]}.csv')\n",
    "print('\\ndone!')"
   ]
  }
 ],
 "metadata": {
  "kernelspec": {
   "display_name": "Python 3 (ipykernel)",
   "language": "python",
   "name": "python3"
  },
  "language_info": {
   "codemirror_mode": {
    "name": "ipython",
    "version": 3
   },
   "file_extension": ".py",
   "mimetype": "text/x-python",
   "name": "python",
   "nbconvert_exporter": "python",
   "pygments_lexer": "ipython3",
   "version": "3.11.5"
  }
 },
 "nbformat": 4,
 "nbformat_minor": 5
}
