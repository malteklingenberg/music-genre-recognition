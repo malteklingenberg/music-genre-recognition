{
 "cells": [
  {
   "cell_type": "code",
   "execution_count": null,
   "id": "990ac1c7-83eb-413c-b6dd-a01f1cc70cb8",
   "metadata": {},
   "outputs": [],
   "source": [
    "import pandas as pd"
   ]
  },
  {
   "cell_type": "markdown",
   "id": "2a3c19f3-b4c8-402c-b48b-26655df4379d",
   "metadata": {},
   "source": [
    "### baseline"
   ]
  },
  {
   "cell_type": "code",
   "execution_count": null,
   "id": "c204afc4-9486-496c-a375-8c01eeae066e",
   "metadata": {},
   "outputs": [],
   "source": [
    "classifiers = ['decision_tree', 'random_forest', 'knn', 'naive_bayes', 'mlp']\n",
    "sections = ['full', 'combined']\n",
    "multiindex = pd.MultiIndex.from_product([classifiers, sections], names=['classifier', 'section'])\n",
    "accuracy_bl = pd.DataFrame(index=multiindex, columns=['split 0', 'split 1', 'split 2', 'split 3', 'split 4', 'average'])"
   ]
  },
  {
   "cell_type": "code",
   "execution_count": null,
   "id": "f7b69fc2-6da7-4b65-8a1f-635d0a72d8ce",
   "metadata": {},
   "outputs": [],
   "source": [
    "for classifier in classifiers:\n",
    "    for section in sections:\n",
    "        for split in range(5):\n",
    "            predictions = pd.read_csv(f'./predictions_bl/{classifier}_bl_{split}_{section}.csv', index_col='file')\n",
    "            acc = sum(predictions['genre'] == predictions['predicted'])/len(predictions['genre'])\n",
    "            accuracy_bl.loc[(classifier, section),f'split {split}'] = acc\n",
    "        accuracy_bl.loc[(classifier, section),'average'] = accuracy_bl.loc[(classifier, section)].mean()"
   ]
  },
  {
   "cell_type": "code",
   "execution_count": null,
   "id": "701e62d6-f5ab-416c-a250-548ae2955ae8",
   "metadata": {},
   "outputs": [],
   "source": [
    "accuracy_bl"
   ]
  },
  {
   "cell_type": "markdown",
   "id": "70f4883d-d1c6-4f57-ac14-0780c3221d31",
   "metadata": {},
   "source": [
    "### one-against-all"
   ]
  },
  {
   "cell_type": "code",
   "execution_count": null,
   "id": "edb75e87-4ab8-4833-ab73-1ab98a19c59e",
   "metadata": {},
   "outputs": [],
   "source": [
    "classifiers = ['decision_tree', 'random_forest', 'knn', 'naive_bayes', 'mlp', 'svm']\n",
    "#classifiers = ['random_forest', 'knn', 'naive_bayes', 'mlp', 'svm']\n",
    "sections = ['full', 'combined']\n",
    "multiindex = pd.MultiIndex.from_product([classifiers, sections], names=['classifier', 'section'])\n",
    "accuracy_oaa = pd.DataFrame(index=multiindex, columns=['split 0', 'split 1', 'split 2', 'split 3', 'split 4', 'average'])"
   ]
  },
  {
   "cell_type": "code",
   "execution_count": null,
   "id": "08c110ae-965d-4137-883e-9f047794eea6",
   "metadata": {},
   "outputs": [],
   "source": [
    "for classifier in classifiers:\n",
    "    for section in sections:\n",
    "        for split in range(5):\n",
    "            predictions = pd.read_csv(f'./predictions_oaa/{classifier}_oaa_{split}_{section}.csv', index_col='file')\n",
    "            acc = sum(predictions['genre'] == predictions['predicted'])/len(predictions['genre'])\n",
    "            accuracy_oaa.loc[(classifier, section),f'split {split}'] = acc\n",
    "        accuracy_oaa.loc[(classifier, section),'average'] = accuracy_oaa.loc[(classifier, section)].mean()"
   ]
  },
  {
   "cell_type": "code",
   "execution_count": null,
   "id": "de03d55c-37db-4dd1-9cb6-4e4ba17b76de",
   "metadata": {},
   "outputs": [],
   "source": [
    "accuracy_oaa"
   ]
  },
  {
   "cell_type": "markdown",
   "id": "54fd4cfb-e2ee-4b26-98e0-af7ee58d4449",
   "metadata": {},
   "source": [
    "### round-robin"
   ]
  },
  {
   "cell_type": "code",
   "execution_count": null,
   "id": "3f504b02-0462-4893-b950-6e3c5a553be0",
   "metadata": {},
   "outputs": [],
   "source": [
    "classifiers = ['decision_tree', 'random_forest', 'knn', 'naive_bayes', 'mlp', 'svm']\n",
    "#classifiers = ['random_forest', 'knn', 'naive_bayes', 'mlp', 'svm']\n",
    "sections = ['full', 'combined']\n",
    "multiindex = pd.MultiIndex.from_product([classifiers, sections], names=['classifier', 'section'])\n",
    "accuracy_rr = pd.DataFrame(index=multiindex, columns=['split 0', 'split 1', 'split 2', 'split 3', 'split 4', 'average'])"
   ]
  },
  {
   "cell_type": "code",
   "execution_count": null,
   "id": "f98dbe2d-e446-412a-9837-a4deddca6569",
   "metadata": {},
   "outputs": [],
   "source": [
    "for classifier in classifiers:\n",
    "    for section in sections:\n",
    "        for split in range(5):\n",
    "            predictions = pd.read_csv(f'./predictions_rr/{classifier}_rr_{split}_{section}.csv', index_col='file')\n",
    "            acc = sum(predictions['genre'] == predictions['predicted'])/len(predictions['genre'])\n",
    "            accuracy_rr.loc[(classifier, section),f'split {split}'] = acc\n",
    "        accuracy_rr.loc[(classifier, section),'average'] = accuracy_rr.loc[(classifier, section)].mean()"
   ]
  },
  {
   "cell_type": "code",
   "execution_count": null,
   "id": "d472711b-a124-4d0e-a982-2e054dada86c",
   "metadata": {},
   "outputs": [],
   "source": [
    "accuracy_rr"
   ]
  },
  {
   "cell_type": "markdown",
   "id": "482b94b4-19b6-458e-af11-1b21fd4aa612",
   "metadata": {},
   "source": [
    "# overview"
   ]
  },
  {
   "cell_type": "code",
   "execution_count": null,
   "id": "60b7a424-7f35-4d6f-9a0f-ac1bbda65c9c",
   "metadata": {},
   "outputs": [],
   "source": [
    "temp_bl = accuracy_bl.drop(columns=['split 0', 'split 1', 'split 2', 'split 3', 'split 4'])\n",
    "temp_bl = temp_bl.rename(columns={'average': 'baseline'})\n",
    "\n",
    "temp_oaa = accuracy_oaa.drop(columns=['split 0', 'split 1', 'split 2', 'split 3', 'split 4'])\n",
    "temp_oaa = temp_oaa.rename(columns={'average': 'one-against-all'})\n",
    "\n",
    "temp_rr = accuracy_rr.drop(columns=['split 0', 'split 1', 'split 2', 'split 3', 'split 4'])\n",
    "temp_rr = temp_rr.rename(columns={'average': 'round-robin'})\n",
    "\n",
    "overview = temp_bl.join(temp_oaa.join(temp_rr, how='outer'), how='outer')"
   ]
  },
  {
   "cell_type": "code",
   "execution_count": null,
   "id": "cddc143f-284b-4114-85ed-63084d1d810a",
   "metadata": {},
   "outputs": [],
   "source": [
    "overview"
   ]
  }
 ],
 "metadata": {
  "kernelspec": {
   "display_name": "Python 3 (ipykernel)",
   "language": "python",
   "name": "python3"
  },
  "language_info": {
   "codemirror_mode": {
    "name": "ipython",
    "version": 3
   },
   "file_extension": ".py",
   "mimetype": "text/x-python",
   "name": "python",
   "nbconvert_exporter": "python",
   "pygments_lexer": "ipython3",
   "version": "3.11.5"
  }
 },
 "nbformat": 4,
 "nbformat_minor": 5
}
