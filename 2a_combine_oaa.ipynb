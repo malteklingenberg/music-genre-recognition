{
 "cells": [
  {
   "cell_type": "code",
   "execution_count": null,
   "id": "5437adb0-f33b-489d-859e-f05a477ed778",
   "metadata": {},
   "outputs": [],
   "source": [
    "import pandas as pd"
   ]
  },
  {
   "cell_type": "code",
   "execution_count": null,
   "id": "dfee1214-7804-4f17-a8e6-e5347d2d0a1b",
   "metadata": {},
   "outputs": [],
   "source": [
    "classifiers = ['decision_tree', 'random_forest', 'knn', 'naive_bayes', 'mlp', 'svm']\n",
    "sections = ['full', 'time_decomposition']\n",
    "genres = ['blues', 'classical', 'country', 'disco', 'hiphop', 'jazz', 'metal', 'pop', 'reggae', 'rock']"
   ]
  },
  {
   "cell_type": "code",
   "execution_count": null,
   "id": "eaeca225-2082-4d51-b52b-197e0e081c53",
   "metadata": {},
   "outputs": [],
   "source": [
    "for classifier in classifiers:\n",
    "    for split in range(5):\n",
    "        for section in sections:\n",
    "            genre_results = {}\n",
    "            for genre in genres:\n",
    "                genre_results[genre] = pd.read_csv(f'./predictions_oaa/all/{classifier}_oaa_{split}_{section}_{genre}.csv', index_col=['file','section'])\n",
    "                if classifier == 'svm':\n",
    "                    # rename column for consistency - probabilities are treated as scores for combining oaa results anyway\n",
    "                    genre_results[genre] = genre_results[genre].rename(columns={'score': 'probability_true'})\n",
    "\n",
    "            combined_prediction = pd.DataFrame(genre_results[genre]['genre'], index=genre_results[genre].index, columns=['genre', 'predicted', 'score'])\n",
    "            for i in genre_results[genre].index:\n",
    "                best_score = -9999999\n",
    "                for genre, results in genre_results.items():\n",
    "                    if results.loc[i, 'probability_true'] > best_score:\n",
    "                        best_score = results.loc[i, 'probability_true']\n",
    "                        combined_prediction.loc[i, 'score'] = best_score\n",
    "                        combined_prediction.loc[i, 'predicted'] = genre\n",
    "\n",
    "            combined_prediction.to_csv(f'./predictions_oaa/{classifier}_oaa_{split}_{section}.csv')"
   ]
  }
 ],
 "metadata": {
  "kernelspec": {
   "display_name": "Python 3 (ipykernel)",
   "language": "python",
   "name": "python3"
  },
  "language_info": {
   "codemirror_mode": {
    "name": "ipython",
    "version": 3
   },
   "file_extension": ".py",
   "mimetype": "text/x-python",
   "name": "python",
   "nbconvert_exporter": "python",
   "pygments_lexer": "ipython3",
   "version": "3.11.5"
  }
 },
 "nbformat": 4,
 "nbformat_minor": 5
}
