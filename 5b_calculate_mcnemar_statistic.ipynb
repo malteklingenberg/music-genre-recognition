{
 "cells": [
  {
   "cell_type": "code",
   "execution_count": null,
   "id": "d7ec827d-5f5f-44f4-8e18-391ec8cfa248",
   "metadata": {},
   "outputs": [],
   "source": [
    "import pandas as pd\n",
    "import numpy as np\n",
    "import scipy\n",
    "\n",
    "from collections import defaultdict"
   ]
  },
  {
   "cell_type": "code",
   "execution_count": null,
   "id": "b76b0571-226f-4084-9a4d-e08bc3e093e9",
   "metadata": {},
   "outputs": [],
   "source": [
    "classifiers  = {'decision_tree': 'decision tree',\n",
    "                'random_forest': 'random forest',\n",
    "                'knn':           'k-nearest-neighbour',\n",
    "                'naive_bayes':   'naive bayes', \n",
    "                'mlp':           'multi-layer perceptron',\n",
    "                'svm':           'support vector machine'}\n",
    "space_decomp = {'bl':  'baseline',\n",
    "                'oaa': 'one-against-all',\n",
    "                'rr':  'round-robin'}\n",
    "time_decomp  = {'full':     'without time decomposition',\n",
    "                'combined': 'with time decomposition'}"
   ]
  },
  {
   "cell_type": "code",
   "execution_count": null,
   "id": "fc757c0b-5372-4cae-8527-e294d4274b1e",
   "metadata": {},
   "outputs": [],
   "source": [
    "def chi2_mcnemar(b, c):\n",
    "    if b+c < 8:\n",
    "        # raise NotImplementedError(f'b+c={b+c}')\n",
    "        return 0\n",
    "    elif 8 <= b+c < 30:\n",
    "        return (abs(b-c)-1)**2 / (b+c+1)\n",
    "    else: # b+c > 30\n",
    "        return (b-c)**2 / (b+c+1)"
   ]
  },
  {
   "cell_type": "code",
   "execution_count": null,
   "id": "5bd7e07f-62a3-49cb-a5ab-2444500067c2",
   "metadata": {},
   "outputs": [],
   "source": [
    "def calculate_chi2(file1, file2):\n",
    "    df1 = pd.read_csv(file1, index_col='file')\n",
    "    df2 = pd.read_csv(file2, index_col='file')\n",
    "\n",
    "    df1['correct'] = df1['genre'] == df1['predicted']\n",
    "    df2['correct'] = df2['genre'] == df2['predicted']\n",
    "\n",
    "    crosstab = defaultdict(int)\n",
    "    cases = {(True, True): 'a', (False, True): 'b', (True, False): 'c', (False, False): 'd'}\n",
    "    for i in df1.index:\n",
    "        crosstab[cases[(df1.loc[i, 'correct'], df2.loc[i, 'correct'])]] += 1\n",
    "\n",
    "    a, b, c, d = crosstab['a'], crosstab['b'], crosstab['c'], crosstab['d']\n",
    "    performs_better = (a+b) > (a+c)\n",
    "    chi2 = chi2_mcnemar(b, c)\n",
    "    return performs_better, b, c, chi2, scipy.stats.chi2.sf(chi2, 1)"
   ]
  },
  {
   "cell_type": "markdown",
   "id": "9b10c6f2-2a4b-4ef3-95d0-9c6a7b332477",
   "metadata": {},
   "source": [
    "### does time composition significantly improve the results?"
   ]
  },
  {
   "cell_type": "code",
   "execution_count": null,
   "id": "57eb484e-2cd1-4a22-a195-f625bb79f26d",
   "metadata": {},
   "outputs": [],
   "source": [
    "for cl, cl_verbose in classifiers.items():\n",
    "    for sd, sd_verbose in space_decomp.items():\n",
    "        file1 = f'./statistics/{cl}_{sd}_all_full.csv'\n",
    "        file2 = f'./statistics/{cl}_{sd}_all_combined.csv'\n",
    "        try:\n",
    "            performs_better, b, c, chi2, sf = calculate_chi2(file1, file2)\n",
    "            if chi2 == 0:\n",
    "                print(f'{cl_verbose:22}, {sd_verbose:15}: b={b:3}, c={c:3}')\n",
    "            else:\n",
    "                print(f'{cl_verbose:22}, {sd_verbose:15}: b={b:3}, c={c:3}, chi^2={chi2:>8.5f}, sf={sf:.5f}', end='')\n",
    "                print(' - 2nd classifier does not perform better' if not performs_better else '')\n",
    "        except FileNotFoundError:\n",
    "            continue"
   ]
  },
  {
   "cell_type": "markdown",
   "id": "43098571-1e9d-444f-9c90-dce16dbb9663",
   "metadata": {},
   "source": [
    "### does one-against-all perform better than baseline?"
   ]
  },
  {
   "cell_type": "code",
   "execution_count": null,
   "id": "e508b13d-4cb1-41bf-a58f-090c662ab381",
   "metadata": {},
   "outputs": [],
   "source": [
    "for cl, cl_verbose in classifiers.items():\n",
    "    for td, td_verbose in time_decomp.items():\n",
    "        file1 = f'./statistics/{cl}_bl_all_{td}.csv'\n",
    "        file2 = f'./statistics/{cl}_oaa_all_{td}.csv'\n",
    "        try:\n",
    "            performs_better, b, c, chi2, sf = calculate_chi2(file1, file2)\n",
    "            if chi2 == 0:\n",
    "                print(f'{cl_verbose:22}, {td_verbose:26}: b={b:3}, c={c:3}')\n",
    "            else:\n",
    "                print(f'{cl_verbose:22}, {td_verbose:26}: b={b:3}, c={c:3}, chi^2={chi2:>8.5f}, sf={sf:.5f}', end='')\n",
    "                print(' - 2nd classifier does not perform better' if not performs_better else '')\n",
    "        except FileNotFoundError:\n",
    "            continue"
   ]
  },
  {
   "cell_type": "markdown",
   "id": "fb444d50-22ea-484b-b283-9366d835cf6c",
   "metadata": {},
   "source": [
    "### does round-robin perform better than baseline?"
   ]
  },
  {
   "cell_type": "code",
   "execution_count": null,
   "id": "2feab0ed-8be1-4684-b367-4778505e5249",
   "metadata": {},
   "outputs": [],
   "source": [
    "for cl, cl_verbose in classifiers.items():\n",
    "    for td, td_verbose in time_decomp.items():\n",
    "        file1 = f'./statistics/{cl}_bl_all_{td}.csv'\n",
    "        file2 = f'./statistics/{cl}_rr_all_{td}.csv'\n",
    "        try:\n",
    "            performs_better, b, c, chi2, sf = calculate_chi2(file1, file2)\n",
    "            if chi2 == 0:\n",
    "                print(f'{cl_verbose:22}, {td_verbose:26}: b={b:3}, c={c:3}')\n",
    "            else:\n",
    "                print(f'{cl_verbose:22}, {td_verbose:26}: b={b:3}, c={c:3}, chi^2={chi2:>8.5f}, sf={sf:.5f}', end='')\n",
    "                print(' - 2nd classifier does not perform better' if not performs_better else '')\n",
    "        except FileNotFoundError:\n",
    "            continue"
   ]
  },
  {
   "cell_type": "markdown",
   "id": "e6cadb15-390b-4bd5-a166-7f7d1e8dc2db",
   "metadata": {},
   "source": [
    "### does round-robin perform better than one-against-all?"
   ]
  },
  {
   "cell_type": "code",
   "execution_count": null,
   "id": "7a08fad5-aae4-43af-a0b9-e819b90a3db8",
   "metadata": {},
   "outputs": [],
   "source": [
    "for cl, cl_verbose in classifiers.items():\n",
    "    for td, td_verbose in time_decomp.items():\n",
    "        file1 = f'./statistics/{cl}_oaa_all_{td}.csv'\n",
    "        file2 = f'./statistics/{cl}_rr_all_{td}.csv'\n",
    "        try:\n",
    "            performs_better, b, c, chi2, sf = calculate_chi2(file1, file2)\n",
    "            if chi2 == 0:\n",
    "                print(f'{cl_verbose:22}, {td_verbose:26}: b={b:3}, c={c:3}')\n",
    "            else:\n",
    "                print(f'{cl_verbose:22}, {td_verbose:26}: b={b:3}, c={c:3}, chi^2={chi2:>8.5f}, sf={sf:.5f}', end='')\n",
    "                print(' - 2nd classifier does not perform better' if not performs_better else '')\n",
    "        except FileNotFoundError:\n",
    "            continue"
   ]
  },
  {
   "cell_type": "markdown",
   "id": "03f16b1c-c3b8-4b69-8ade-666a6d69e091",
   "metadata": {},
   "source": [
    "### do SVMs perform better than the other classifiers?"
   ]
  },
  {
   "cell_type": "code",
   "execution_count": null,
   "id": "3d350b49-9307-4906-a9ed-ff23f560ea91",
   "metadata": {},
   "outputs": [],
   "source": [
    "for cl, cl_verbose in list(classifiers.items())[:-1]:\n",
    "    for sd, sd_verbose in space_decomp.items():\n",
    "        for td, td_verbose in time_decomp.items():\n",
    "            file1 = f'./statistics/{cl}_{sd}_all_{td}.csv'\n",
    "            file2 = f'./statistics/svm_{sd}_all_{td}.csv'\n",
    "            try:\n",
    "                performs_better, b, c, chi2, sf = calculate_chi2(file1, file2)\n",
    "                if chi2 == 0:\n",
    "                    print(f'{cl_verbose:22}, {sd_verbose:15}, {td_verbose:26}: b={b:3}, c={c:3}')\n",
    "                else:\n",
    "                    print(f'{cl_verbose:22}, {sd_verbose:15}, {td_verbose:26}: b={b:3}, c={c:3}, chi^2={chi2:>8.5f}, sf={sf:.5f}', end='')\n",
    "                    print(' - 2nd classifier does not perform better' if not performs_better else '')\n",
    "            except FileNotFoundError:\n",
    "                continue"
   ]
  }
 ],
 "metadata": {
  "kernelspec": {
   "display_name": "Python 3 (ipykernel)",
   "language": "python",
   "name": "python3"
  },
  "language_info": {
   "codemirror_mode": {
    "name": "ipython",
    "version": 3
   },
   "file_extension": ".py",
   "mimetype": "text/x-python",
   "name": "python",
   "nbconvert_exporter": "python",
   "pygments_lexer": "ipython3",
   "version": "3.11.5"
  }
 },
 "nbformat": 4,
 "nbformat_minor": 5
}
