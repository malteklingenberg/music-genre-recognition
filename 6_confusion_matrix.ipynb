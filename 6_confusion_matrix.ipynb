{
 "cells": [
  {
   "cell_type": "code",
   "execution_count": null,
   "id": "4aab3325-7352-4bd6-9c18-cbd5fcfb59f2",
   "metadata": {},
   "outputs": [],
   "source": [
    "import pandas as pd\n",
    "import matplotlib.pyplot as plt\n",
    "from sklearn.metrics import ConfusionMatrixDisplay"
   ]
  },
  {
   "cell_type": "code",
   "execution_count": null,
   "id": "01722291-bbca-4814-9f3f-cc3c23cc2219",
   "metadata": {},
   "outputs": [],
   "source": [
    "# CHOOSE CLASSIFIER FOR WHICH TO GENERATE THE CONFUSION MATRIX\n",
    "predictions_csv = './statistics/your_chosen_classifier.csv'\n",
    "df = pd.read_csv(predictions_csv, index_col='file')\n",
    "df"
   ]
  },
  {
   "cell_type": "code",
   "execution_count": null,
   "id": "1daa5df8-1bde-43bb-8478-f9cc48630ff3",
   "metadata": {},
   "outputs": [],
   "source": [
    "ConfusionMatrixDisplay.from_predictions(df['genre'], df['predicted'], xticks_rotation='vertical', cmap='Blues', colorbar=False)\n",
    "plt.savefig('confusion_matrix.pdf', bbox_inches='tight')"
   ]
  }
 ],
 "metadata": {
  "kernelspec": {
   "display_name": "Python 3 (ipykernel)",
   "language": "python",
   "name": "python3"
  },
  "language_info": {
   "codemirror_mode": {
    "name": "ipython",
    "version": 3
   },
   "file_extension": ".py",
   "mimetype": "text/x-python",
   "name": "python",
   "nbconvert_exporter": "python",
   "pygments_lexer": "ipython3",
   "version": "3.11.5"
  }
 },
 "nbformat": 4,
 "nbformat_minor": 5
}
