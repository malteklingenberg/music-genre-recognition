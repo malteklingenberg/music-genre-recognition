{
 "cells": [
  {
   "cell_type": "code",
   "execution_count": null,
   "id": "ca56d548-9686-4c4f-9157-18304237c980",
   "metadata": {},
   "outputs": [],
   "source": [
    "from pathlib import Path\n",
    "\n",
    "import numpy as np\n",
    "import pandas as pd\n",
    "\n",
    "from sklearn.tree import DecisionTreeClassifier\n",
    "from sklearn.ensemble import RandomForestClassifier\n",
    "from sklearn.neighbors import KNeighborsClassifier\n",
    "from sklearn.naive_bayes import GaussianNB\n",
    "from sklearn.neural_network import MLPClassifier\n",
    "from sklearn.svm import SVC\n",
    "\n",
    "random_state = 2024"
   ]
  },
  {
   "cell_type": "code",
   "execution_count": null,
   "id": "18ab2816-2685-4c35-b941-0fe027993fed",
   "metadata": {},
   "outputs": [],
   "source": [
    "X_train_splits, X_test_splits, y_train_splits, y_test_splits = [], [], [], []\n",
    "for split in range(5):\n",
    "    train = pd.read_csv(f'./training_data/train_{split}.csv', index_col=['file', 'section'])\n",
    "    test  = pd.read_csv(f'./training_data/test_{split}.csv',  index_col=['file', 'section'])\n",
    "\n",
    "    X_train_splits.append(train.drop(columns='genre'))\n",
    "    X_test_splits.append(test.drop(columns='genre'))\n",
    "    y_train_splits.append(train['genre'])\n",
    "    y_test_splits.append(test['genre'])"
   ]
  },
  {
   "cell_type": "code",
   "execution_count": null,
   "id": "c1f6027b-5fbf-49a3-be1d-4fa49e251a8e",
   "metadata": {},
   "outputs": [],
   "source": [
    "def predict_probabilities_oaa(clf, X_test):\n",
    "    all_probabilities = clf.predict_proba(X_test)\n",
    "    true_index = list(clf.classes_).index(True)\n",
    "    predicted_probabilities = all_probabilities[:,1]\n",
    "    predicted_classes = clf.classes_[np.argmax(all_probabilities, axis=1)]\n",
    "    return predicted_classes, predicted_probabilities"
   ]
  },
  {
   "cell_type": "code",
   "execution_count": null,
   "id": "b3337781-2839-40bd-85e8-4ca198685731",
   "metadata": {},
   "outputs": [],
   "source": [
    "Path('./predictions_oaa/all').mkdir(parents=True, exist_ok=True)\n",
    "num_combinations = 5 * 2 * 10 # 5 splits, full file and time decomposition, 10 genres\n",
    "i = 0\n",
    "for split in range(5):\n",
    "    for section in ['full', 'time_decomposition']:\n",
    "        for genre in ['blues', 'classical', 'country', 'disco', 'hiphop', 'jazz', 'metal', 'pop', 'reggae', 'rock']:\n",
    "            i += 1\n",
    "            print(f'now generating predictions for combination {i} of {num_combinations} - split {split}, method {section}, genre {genre}                 ', end='\\r')\n",
    "            \n",
    "            if section == 'full':\n",
    "                ix = pd.IndexSlice[:, ['full']]\n",
    "            else:\n",
    "                ix = pd.IndexSlice[:, ['start', 'middle', 'end']]\n",
    "            X_train = X_train_splits[split].loc[ix, :]\n",
    "            X_test = X_test_splits[split].loc[ix, :]\n",
    "            y_train = y_train_splits[split].loc[ix]\n",
    "            y_test = y_test_splits[split].loc[ix]\n",
    "\n",
    "            # relabel samples for oaa - belongs to genre x vs. does not belong to genre x\n",
    "            y_train_oaa = (y_train == genre)\n",
    "            y_test_oaa = (y_test == genre)\n",
    "            \n",
    "            clf_decision_tree = DecisionTreeClassifier(random_state=random_state).fit(X_train, y_train_oaa)\n",
    "            result_decision_tree = y_test.to_frame()\n",
    "            result_decision_tree['expected'] = y_test_oaa\n",
    "            result_decision_tree['predicted'], result_decision_tree['probability_true'] = predict_probabilities_oaa(clf_decision_tree, X_test)\n",
    "            result_decision_tree.to_csv(f'./predictions_oaa/all/decision_tree_oaa_{split}_{section}_{genre}.csv')\n",
    "                \n",
    "            clf_random_forest = RandomForestClassifier(n_estimators=100, random_state=random_state).fit(X_train, y_train_oaa)\n",
    "            result_random_forest = y_test.to_frame()\n",
    "            result_random_forest['expected'] = y_test_oaa\n",
    "            result_random_forest['predicted'], result_random_forest['probability_true'] = predict_probabilities_oaa(clf_random_forest, X_test)\n",
    "            result_random_forest.to_csv(f'./predictions_oaa/all/random_forest_oaa_{split}_{section}_{genre}.csv')\n",
    "\n",
    "            clf_knn = KNeighborsClassifier(n_neighbors=3).fit(X_train, y_train_oaa)\n",
    "            result_knn = y_test.to_frame()\n",
    "            result_knn['expected'] = y_test_oaa\n",
    "            result_knn['predicted'], result_knn['probability_true'] = predict_probabilities_oaa(clf_knn, X_test)\n",
    "            result_knn.to_csv(f'./predictions_oaa/all/knn_oaa_{split}_{section}_{genre}.csv')\n",
    "\n",
    "            clf_naive_bayes = GaussianNB().fit(X_train, y_train_oaa)\n",
    "            result_naive_bayes = y_test.to_frame()\n",
    "            result_naive_bayes['expected'] = y_test_oaa\n",
    "            result_naive_bayes['predicted'], result_naive_bayes['probability_true'] = predict_probabilities_oaa(clf_naive_bayes, X_test)\n",
    "            result_naive_bayes.to_csv(f'./predictions_oaa/all/naive_bayes_oaa_{split}_{section}_{genre}.csv')\n",
    "\n",
    "            clf_mlp = MLPClassifier(hidden_layer_sizes=(30,), batch_size=X_train.shape[0], max_iter=5000, random_state=random_state).fit(X_train, y_train_oaa)\n",
    "            result_mlp = y_test.to_frame()\n",
    "            result_mlp['expected'] = y_test_oaa\n",
    "            result_mlp['predicted'], result_mlp['probability_true'] = predict_probabilities_oaa(clf_mlp, X_test)\n",
    "            result_mlp.to_csv(f'./predictions_oaa/all/mlp_oaa_{split}_{section}_{genre}.csv')\n",
    "\n",
    "            clf_svm = SVC(random_state=random_state).fit(X_train, y_train_oaa)\n",
    "            result_svm = y_test.to_frame()\n",
    "            result_svm['expected'] = y_test_oaa\n",
    "            result_svm['predicted'] = clf_svm.predict(X_test)\n",
    "            result_svm['score'] = clf_svm.decision_function(X_test)\n",
    "            assert (result_svm['predicted'] == (result_svm['score'] >= 0)).all() # ensure that False has scores below 0\n",
    "            result_svm.to_csv(f'./predictions_oaa/all/svm_oaa_{split}_{section}_{genre}.csv')\n",
    "print('\\ndone!')"
   ]
  }
 ],
 "metadata": {
  "kernelspec": {
   "display_name": "Python 3 (ipykernel)",
   "language": "python",
   "name": "python3"
  },
  "language_info": {
   "codemirror_mode": {
    "name": "ipython",
    "version": 3
   },
   "file_extension": ".py",
   "mimetype": "text/x-python",
   "name": "python",
   "nbconvert_exporter": "python",
   "pygments_lexer": "ipython3",
   "version": "3.11.5"
  }
 },
 "nbformat": 4,
 "nbformat_minor": 5
}
