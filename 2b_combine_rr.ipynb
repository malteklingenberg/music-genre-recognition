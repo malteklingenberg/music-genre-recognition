{
 "cells": [
  {
   "cell_type": "code",
   "execution_count": null,
   "id": "5437adb0-f33b-489d-859e-f05a477ed778",
   "metadata": {},
   "outputs": [],
   "source": [
    "import itertools\n",
    "from collections import defaultdict\n",
    "\n",
    "import pandas as pd"
   ]
  },
  {
   "cell_type": "code",
   "execution_count": null,
   "id": "dfee1214-7804-4f17-a8e6-e5347d2d0a1b",
   "metadata": {},
   "outputs": [],
   "source": [
    "classifiers = ['decision_tree', 'random_forest', 'knn', 'naive_bayes', 'mlp', 'svm']\n",
    "sections = ['full', 'time_decomposition']\n",
    "genres = ['blues', 'classical', 'country', 'disco', 'hiphop', 'jazz', 'metal', 'pop', 'reggae', 'rock']\n",
    "genre_pairs = list(itertools.combinations(genres, 2))\n",
    "\n",
    "use_weighted_voting = False"
   ]
  },
  {
   "cell_type": "code",
   "execution_count": null,
   "id": "eaeca225-2082-4d51-b52b-197e0e081c53",
   "metadata": {},
   "outputs": [],
   "source": [
    "for classifier in classifiers:\n",
    "    for split in range(5):\n",
    "        for section in sections:\n",
    "            genre_pair_results = {}\n",
    "            for genre_pair in genre_pairs:\n",
    "                genre_pair_results[genre_pair] = pd.read_csv(f'./predictions_rr/all/{classifier}_rr_{split}_{section}_{genre_pair[0]}_{genre_pair[1]}.csv', index_col=['file','section'])\n",
    "\n",
    "            combined_prediction = pd.DataFrame(genre_pair_results[tuple(genre_pair)]['genre'], index=genre_pair_results[tuple(genre_pair)].index, columns=['genre', 'predicted', 'score'])\n",
    "            for i in genre_pair_results[tuple(genre_pair)].index:\n",
    "                weighted_votes = defaultdict(float)\n",
    "                for genre_pair, results in genre_pair_results.items():\n",
    "                    if classifier == 'svm':\n",
    "                        weighted_votes[results.loc[i, 'predicted']] += abs(results.loc[i, 'score']) if use_weighted_voting else 1\n",
    "                    else:\n",
    "                        weighted_votes[results.loc[i, 'predicted']] += results.loc[i, 'probability'] if use_weighted_voting else 1\n",
    "                weighted_votes = sorted(list(weighted_votes.items()), key=lambda x: x[1], reverse=True)\n",
    "                combined_prediction.loc[i, 'predicted'] = weighted_votes[0][0]\n",
    "                combined_prediction.loc[i, 'score'] = weighted_votes[0][1] / sum(x[1] for x in weighted_votes)\n",
    "                \n",
    "            combined_prediction.to_csv(f'./predictions_rr/{classifier}_rr_{split}_{section}.csv')"
   ]
  }
 ],
 "metadata": {
  "kernelspec": {
   "display_name": "Python 3 (ipykernel)",
   "language": "python",
   "name": "python3"
  },
  "language_info": {
   "codemirror_mode": {
    "name": "ipython",
    "version": 3
   },
   "file_extension": ".py",
   "mimetype": "text/x-python",
   "name": "python",
   "nbconvert_exporter": "python",
   "pygments_lexer": "ipython3",
   "version": "3.11.5"
  }
 },
 "nbformat": 4,
 "nbformat_minor": 5
}
