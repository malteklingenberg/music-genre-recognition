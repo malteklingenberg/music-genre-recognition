{
 "cells": [
  {
   "cell_type": "code",
   "execution_count": null,
   "id": "b75528c4-c4b3-42c3-a6f0-76cd122688af",
   "metadata": {},
   "outputs": [],
   "source": [
    "from collections import defaultdict\n",
    "\n",
    "import pandas as pd"
   ]
  },
  {
   "cell_type": "code",
   "execution_count": null,
   "id": "17903332-c53b-4211-8e46-ae09cf3a41ad",
   "metadata": {},
   "outputs": [],
   "source": [
    "classifiers = ['decision_tree', 'random_forest', 'knn', 'naive_bayes', 'mlp']\n",
    "\n",
    "use_weighted_voting = False"
   ]
  },
  {
   "cell_type": "markdown",
   "id": "4de83faa-b412-484b-ad76-b34a487b048d",
   "metadata": {},
   "source": [
    "### baseline"
   ]
  },
  {
   "cell_type": "code",
   "execution_count": null,
   "id": "011feded-30c2-48ca-b993-f534815c1f58",
   "metadata": {},
   "outputs": [],
   "source": [
    "for classifier in classifiers:\n",
    "    for split in range(5):\n",
    "        time_decomposition_results = pd.read_csv(f'./predictions_bl/{classifier}_bl_{split}_time_decomposition.csv', index_col=['file', 'section'])\n",
    "        combined_prediction = pd.DataFrame(time_decomposition_results.xs('start', level='section')['genre'],\n",
    "                                           index=time_decomposition_results.xs('start', level='section').index,\n",
    "                                           columns=['genre', 'predicted', 'probability_share'])\n",
    "\n",
    "        for i in combined_prediction.index:\n",
    "            results = time_decomposition_results.loc[pd.IndexSlice[i, :], :]\n",
    "            weighted_votes = defaultdict(float)\n",
    "            for r in results.itertuples():\n",
    "                weighted_votes[r.predicted] += r.probability if use_weighted_voting else 1\n",
    "\n",
    "            # catch edge case of three different genres, all with same probability\n",
    "            if len(weighted_votes) == 3 and len(set(weighted_votes.values())) == 1:\n",
    "                combined_prediction.loc[i, 'predicted'] = time_decomposition_results.loc[(i, 'middle'), 'predicted']\n",
    "                combined_prediction.loc[i, 'probability_share'] = 1/3\n",
    "            # otherwise choose genre with highest total weighted vote\n",
    "            else:\n",
    "                weighted_votes = sorted(list(weighted_votes.items()), key=lambda x: x[1], reverse=True)\n",
    "                combined_prediction.loc[i, 'predicted'] = weighted_votes[0][0]\n",
    "                combined_prediction.loc[i, 'probability_share'] = weighted_votes[0][1] / sum(x[1] for x in weighted_votes)\n",
    "\n",
    "        combined_prediction.to_csv(f'./predictions_bl/{classifier}_bl_{split}_combined.csv')"
   ]
  },
  {
   "cell_type": "markdown",
   "id": "b9b41664-05a8-4f11-b1b3-5c7b75ecfe91",
   "metadata": {},
   "source": [
    "### one-against-all"
   ]
  },
  {
   "cell_type": "code",
   "execution_count": null,
   "id": "3f076812-dd36-4f49-97c4-d700895f1c85",
   "metadata": {},
   "outputs": [],
   "source": [
    "classifiers = ['decision_tree', 'random_forest', 'knn', 'naive_bayes', 'mlp', 'svm']\n",
    "#classifiers = ['random_forest', 'knn', 'naive_bayes', 'mlp', 'svm']\n",
    "for classifier in classifiers:\n",
    "    for split in range(5):\n",
    "        time_decomposition_results = pd.read_csv(f'./predictions_oaa/{classifier}_oaa_{split}_time_decomposition.csv', index_col=['file', 'section'])\n",
    "        combined_prediction = pd.DataFrame(time_decomposition_results.xs('start', level='section')['genre'],\n",
    "                                           index=time_decomposition_results.xs('start', level='section').index,\n",
    "                                           columns=['genre', 'predicted', 'probability_share'])\n",
    "        \n",
    "        for i in combined_prediction.index:\n",
    "            results = time_decomposition_results.loc[pd.IndexSlice[i, :], :]\n",
    "            weighted_votes = defaultdict(float)\n",
    "            for r in results.itertuples():\n",
    "                weighted_votes[r.predicted] += r.score if use_weighted_voting else 1\n",
    "                \n",
    "            # catch edge case of three different genres, all with same probability\n",
    "            if len(weighted_votes) == 3 and len(set(weighted_votes.values())) == 1:\n",
    "                combined_prediction.loc[i, 'predicted'] = time_decomposition_results.loc[(i, 'middle'), 'predicted']\n",
    "                combined_prediction.loc[i, 'score'] = 1/3\n",
    "            # otherwise choose genre with highest total weighted vote\n",
    "            else:\n",
    "                weighted_votes = sorted(list(weighted_votes.items()), key=lambda x: x[1], reverse=True)\n",
    "                combined_prediction.loc[i, 'predicted'] = weighted_votes[0][0]\n",
    "                if sum(x[1] for x in weighted_votes) == 0:\n",
    "                    combined_prediction.loc[i, 'score'] = 0\n",
    "                else:\n",
    "                    combined_prediction.loc[i, 'score'] = weighted_votes[0][1] / sum(x[1] for x in weighted_votes)\n",
    "\n",
    "        combined_prediction.to_csv(f'./predictions_oaa/{classifier}_oaa_{split}_combined.csv')"
   ]
  },
  {
   "cell_type": "markdown",
   "id": "d15862f0-c055-4f70-84f2-32f81fef5ff4",
   "metadata": {},
   "source": [
    "### round-robin"
   ]
  },
  {
   "cell_type": "code",
   "execution_count": null,
   "id": "455e3c32-c5b5-44fb-8033-4c7656b08aac",
   "metadata": {},
   "outputs": [],
   "source": [
    "classifiers = ['decision_tree', 'random_forest', 'knn', 'naive_bayes', 'mlp', 'svm']\n",
    "#classifiers = ['random_forest', 'knn', 'naive_bayes', 'mlp', 'svm']\n",
    "for classifier in classifiers:\n",
    "    for split in range(5):\n",
    "        time_decomposition_results = pd.read_csv(f'./predictions_rr/{classifier}_rr_{split}_time_decomposition.csv', index_col=['file', 'section'])\n",
    "        combined_prediction = pd.DataFrame(time_decomposition_results.xs('start', level='section')['genre'],\n",
    "                                           index=time_decomposition_results.xs('start', level='section').index,\n",
    "                                           columns=['genre', 'predicted', 'probability_share'])\n",
    "        \n",
    "        for i in combined_prediction.index:\n",
    "            results = time_decomposition_results.loc[pd.IndexSlice[i, :], :]\n",
    "            weighted_votes = defaultdict(float)\n",
    "            for r in results.itertuples():\n",
    "                weighted_votes[r.predicted] += r.score if use_weighted_voting else 1\n",
    "                \n",
    "            # catch edge case of three different genres, all with same probability\n",
    "            if len(weighted_votes) == 3 and len(set(weighted_votes.values())) == 1:\n",
    "                combined_prediction.loc[i, 'predicted'] = time_decomposition_results.loc[(i, 'middle'), 'predicted']\n",
    "                combined_prediction.loc[i, 'score'] = 1/3\n",
    "            # otherwise choose genre with highest total weighted vote\n",
    "            else:\n",
    "                weighted_votes = sorted(list(weighted_votes.items()), key=lambda x: x[1], reverse=True)\n",
    "                combined_prediction.loc[i, 'predicted'] = weighted_votes[0][0]\n",
    "                if sum(x[1] for x in weighted_votes) == 0:\n",
    "                    combined_prediction.loc[i, 'score'] = 0\n",
    "                else:\n",
    "                    combined_prediction.loc[i, 'score'] = weighted_votes[0][1] / sum(x[1] for x in weighted_votes)\n",
    "\n",
    "        combined_prediction.to_csv(f'./predictions_rr/{classifier}_rr_{split}_combined.csv')"
   ]
  },
  {
   "cell_type": "code",
   "execution_count": null,
   "id": "b312abe5-ce71-4a0f-8271-8d0fdceb6ae5",
   "metadata": {},
   "outputs": [],
   "source": []
  }
 ],
 "metadata": {
  "kernelspec": {
   "display_name": "Python 3 (ipykernel)",
   "language": "python",
   "name": "python3"
  },
  "language_info": {
   "codemirror_mode": {
    "name": "ipython",
    "version": 3
   },
   "file_extension": ".py",
   "mimetype": "text/x-python",
   "name": "python",
   "nbconvert_exporter": "python",
   "pygments_lexer": "ipython3",
   "version": "3.11.5"
  }
 },
 "nbformat": 4,
 "nbformat_minor": 5
}
