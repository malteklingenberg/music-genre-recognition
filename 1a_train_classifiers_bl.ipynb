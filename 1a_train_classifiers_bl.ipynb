{
 "cells": [
  {
   "cell_type": "code",
   "execution_count": null,
   "id": "ca56d548-9686-4c4f-9157-18304237c980",
   "metadata": {},
   "outputs": [],
   "source": [
    "from pathlib import Path\n",
    "\n",
    "import numpy as np\n",
    "import pandas as pd\n",
    "\n",
    "from sklearn.tree import DecisionTreeClassifier\n",
    "from sklearn.ensemble import RandomForestClassifier\n",
    "from sklearn.neighbors import KNeighborsClassifier\n",
    "from sklearn.naive_bayes import GaussianNB\n",
    "from sklearn.neural_network import MLPClassifier\n",
    "from sklearn.svm import SVC\n",
    "\n",
    "random_state = 2024"
   ]
  },
  {
   "cell_type": "code",
   "execution_count": null,
   "id": "18ab2816-2685-4c35-b941-0fe027993fed",
   "metadata": {},
   "outputs": [],
   "source": [
    "X_train_splits, X_test_splits, y_train_splits, y_test_splits = [], [], [], []\n",
    "for split in range(5):\n",
    "    train = pd.read_csv(f'./training_data/train_{split}.csv', index_col=['file', 'section'])\n",
    "    test  = pd.read_csv(f'./training_data/test_{split}.csv',  index_col=['file', 'section'])\n",
    "\n",
    "    X_train_splits.append(train.drop(columns='genre'))\n",
    "    X_test_splits.append(test.drop(columns='genre'))\n",
    "    y_train_splits.append(train['genre'])\n",
    "    y_test_splits.append(test['genre'])"
   ]
  },
  {
   "cell_type": "code",
   "execution_count": null,
   "id": "c1f6027b-5fbf-49a3-be1d-4fa49e251a8e",
   "metadata": {},
   "outputs": [],
   "source": [
    "def predict_probabilities(clf, X_test):\n",
    "    all_probabilities = clf.predict_proba(X_test)\n",
    "    predicted_probabilities = np.max(all_probabilities, axis=1)\n",
    "    predicted_classes = clf.classes_[np.argmax(all_probabilities, axis=1)]\n",
    "    return predicted_classes, predicted_probabilities"
   ]
  },
  {
   "cell_type": "code",
   "execution_count": null,
   "id": "b3337781-2839-40bd-85e8-4ca198685731",
   "metadata": {},
   "outputs": [],
   "source": [
    "Path('./predictions_bl').mkdir(exist_ok=True)\n",
    "num_combinations = 5 * 2 # 5 splits, full file and time decomposition\n",
    "i = 0\n",
    "for split in range(5):\n",
    "    for section in ['full', 'time_decomposition']:\n",
    "        i += 1\n",
    "        print(f'now generating predictions for combination {i} of {num_combinations} - split {split}, method {section}                   ', end='\\r')\n",
    "\n",
    "        if section == 'full':\n",
    "            ix = pd.IndexSlice[:, ['full']]\n",
    "        else:\n",
    "            ix = pd.IndexSlice[:, ['start', 'middle', 'end']]\n",
    "        X_train = X_train_splits[split].loc[ix, :]\n",
    "        X_test = X_test_splits[split].loc[ix, :]\n",
    "        y_train = y_train_splits[split].loc[ix]\n",
    "        y_test = y_test_splits[split].loc[ix]\n",
    "        \n",
    "        clf_decision_tree = DecisionTreeClassifier(random_state=random_state).fit(X_train, y_train)\n",
    "        result_decision_tree = y_test.to_frame()\n",
    "        result_decision_tree['predicted'], result_decision_tree['probability'] = predict_probabilities(clf_decision_tree, X_test)\n",
    "        result_decision_tree.to_csv(f'./predictions_bl/decision_tree_bl_{split}_{section}.csv')\n",
    "\n",
    "        clf_random_forest = RandomForestClassifier(n_estimators=100, random_state=random_state).fit(X_train, y_train)\n",
    "        result_random_forest = y_test.to_frame()\n",
    "        result_random_forest['predicted'], result_random_forest['probability'] = predict_probabilities(clf_random_forest, X_test)\n",
    "        result_random_forest.to_csv(f'./predictions_bl/random_forest_bl_{split}_{section}.csv')\n",
    "\n",
    "        clf_knn = KNeighborsClassifier(n_neighbors=3).fit(X_train, y_train)\n",
    "        result_knn = y_test.to_frame()\n",
    "        result_knn['predicted'], result_knn['probability'] = predict_probabilities(clf_knn, X_test)\n",
    "        result_knn.to_csv(f'./predictions_bl/knn_bl_{split}_{section}.csv')\n",
    "\n",
    "        clf_naive_bayes = GaussianNB().fit(X_train, y_train)\n",
    "        result_naive_bayes = y_test.to_frame()\n",
    "        result_naive_bayes['predicted'], result_naive_bayes['probability'] = predict_probabilities(clf_naive_bayes, X_test)\n",
    "        result_naive_bayes.to_csv(f'./predictions_bl/naive_bayes_bl_{split}_{section}.csv')\n",
    "\n",
    "        clf_mlp = MLPClassifier(hidden_layer_sizes=(30,), batch_size=X_train.shape[0], max_iter=5000, random_state=random_state).fit(X_train, y_train)\n",
    "        result_mlp = y_test.to_frame()\n",
    "        result_mlp['predicted'], result_mlp['probability'] = predict_probabilities(clf_mlp, X_test)\n",
    "        result_mlp.to_csv(f'./predictions_bl/mlp_bl_{split}_{section}.csv')\n",
    "print('\\ndone!')"
   ]
  },
  {
   "cell_type": "markdown",
   "id": "0dd4eddc-9525-4bd4-8ced-1eeab5386032",
   "metadata": {},
   "source": [
    "### playground"
   ]
  },
  {
   "cell_type": "code",
   "execution_count": null,
   "id": "1b348e6c-5ae3-4be8-b7d0-6ed375f8b7a1",
   "metadata": {},
   "outputs": [],
   "source": [
    "X_train = X_train_splits[0].xs('full', level='section')\n",
    "X_test = X_test_splits[0].xs('full', level='section')\n",
    "y_train = y_train_splits[0].xs('full', level='section')\n",
    "y_test = y_test_splits[0].xs('full', level='section')"
   ]
  },
  {
   "cell_type": "code",
   "execution_count": null,
   "id": "0aa51502-b037-4897-8124-b8e4fc4eadba",
   "metadata": {},
   "outputs": [],
   "source": [
    "len(X_test.iloc[0])"
   ]
  },
  {
   "cell_type": "code",
   "execution_count": null,
   "id": "d6b02e91-1422-4a20-8a35-cf193b5907b4",
   "metadata": {},
   "outputs": [],
   "source": [
    "clf = MLPClassifier(hidden_layer_sizes=(30,), batch_size=800, max_iter=5000, random_state=random_state).fit(X_train, y_train)"
   ]
  },
  {
   "cell_type": "code",
   "execution_count": null,
   "id": "f8d50b72-47f0-49f0-9701-c03221c8aa9d",
   "metadata": {},
   "outputs": [],
   "source": [
    "clf.classes_"
   ]
  },
  {
   "cell_type": "code",
   "execution_count": null,
   "id": "f36cd83b-aef9-4dd3-9e6f-fdfc22654c58",
   "metadata": {},
   "outputs": [],
   "source": [
    "clf.predict(X_test)"
   ]
  },
  {
   "cell_type": "code",
   "execution_count": null,
   "id": "9bc1f6b2-51f1-4f63-88f5-d164f364a46d",
   "metadata": {},
   "outputs": [],
   "source": [
    "clf.predict_proba(X_test)"
   ]
  },
  {
   "cell_type": "code",
   "execution_count": null,
   "id": "e6e16750-3550-4376-a111-e38c54952db2",
   "metadata": {},
   "outputs": [],
   "source": [
    "np.max(clf.predict_proba(X_test), axis=1)"
   ]
  },
  {
   "cell_type": "code",
   "execution_count": null,
   "id": "f572652c-4917-413d-87de-139bd8928e47",
   "metadata": {},
   "outputs": [],
   "source": [
    "predict_probabilities(clf, X_test)"
   ]
  }
 ],
 "metadata": {
  "kernelspec": {
   "display_name": "Python 3 (ipykernel)",
   "language": "python",
   "name": "python3"
  },
  "language_info": {
   "codemirror_mode": {
    "name": "ipython",
    "version": 3
   },
   "file_extension": ".py",
   "mimetype": "text/x-python",
   "name": "python",
   "nbconvert_exporter": "python",
   "pygments_lexer": "ipython3",
   "version": "3.11.5"
  }
 },
 "nbformat": 4,
 "nbformat_minor": 5
}
